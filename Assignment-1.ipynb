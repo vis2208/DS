{
 "cells": [
  {
   "cell_type": "markdown",
   "id": "48b8fa9b",
   "metadata": {},
   "source": [
    "## Q1"
   ]
  },
  {
   "cell_type": "markdown",
   "id": "969eb3b3",
   "metadata": {},
   "source": [
    "(1) String Variable"
   ]
  },
  {
   "cell_type": "code",
   "execution_count": 2,
   "id": "e633e01c",
   "metadata": {},
   "outputs": [],
   "source": [
    "str_var = \"hello world\""
   ]
  },
  {
   "cell_type": "code",
   "execution_count": 3,
   "id": "c2651f42",
   "metadata": {},
   "outputs": [
    {
     "data": {
      "text/plain": [
       "str"
      ]
     },
     "execution_count": 3,
     "metadata": {},
     "output_type": "execute_result"
    }
   ],
   "source": [
    "type(str_var)"
   ]
  },
  {
   "cell_type": "markdown",
   "id": "3a00bbda",
   "metadata": {},
   "source": [
    "(2) List Variable"
   ]
  },
  {
   "cell_type": "code",
   "execution_count": 4,
   "id": "f1bf6bf6",
   "metadata": {},
   "outputs": [],
   "source": [
    "list_var = ['a','b',1,1.23,10,'hello']"
   ]
  },
  {
   "cell_type": "code",
   "execution_count": 5,
   "id": "8b85e38b",
   "metadata": {},
   "outputs": [
    {
     "data": {
      "text/plain": [
       "list"
      ]
     },
     "execution_count": 5,
     "metadata": {},
     "output_type": "execute_result"
    }
   ],
   "source": [
    "type(list_var)"
   ]
  },
  {
   "cell_type": "markdown",
   "id": "be83e86e",
   "metadata": {},
   "source": [
    "(3) Float Variable"
   ]
  },
  {
   "cell_type": "code",
   "execution_count": 7,
   "id": "69af9e8d",
   "metadata": {},
   "outputs": [],
   "source": [
    "float_var = 5.68"
   ]
  },
  {
   "cell_type": "code",
   "execution_count": 8,
   "id": "5823ee52",
   "metadata": {},
   "outputs": [
    {
     "data": {
      "text/plain": [
       "float"
      ]
     },
     "execution_count": 8,
     "metadata": {},
     "output_type": "execute_result"
    }
   ],
   "source": [
    "type(float_var)"
   ]
  },
  {
   "cell_type": "markdown",
   "id": "f71bb847",
   "metadata": {},
   "source": [
    "(4) Tuple Variable"
   ]
  },
  {
   "cell_type": "code",
   "execution_count": 12,
   "id": "4ef29872",
   "metadata": {},
   "outputs": [],
   "source": [
    "tuple_var = (12, 4, 9 , 12, 'world')"
   ]
  },
  {
   "cell_type": "code",
   "execution_count": 13,
   "id": "bd837d03",
   "metadata": {},
   "outputs": [
    {
     "data": {
      "text/plain": [
       "tuple"
      ]
     },
     "execution_count": 13,
     "metadata": {},
     "output_type": "execute_result"
    }
   ],
   "source": [
    "type(tuple_var)"
   ]
  },
  {
   "cell_type": "markdown",
   "id": "b207473a",
   "metadata": {},
   "source": [
    "## Q2"
   ]
  },
  {
   "cell_type": "code",
   "execution_count": 15,
   "id": "32634ad4",
   "metadata": {},
   "outputs": [],
   "source": [
    "var1 = '' #(1)"
   ]
  },
  {
   "cell_type": "code",
   "execution_count": 16,
   "id": "4c5b3cb5",
   "metadata": {},
   "outputs": [
    {
     "data": {
      "text/plain": [
       "str"
      ]
     },
     "execution_count": 16,
     "metadata": {},
     "output_type": "execute_result"
    }
   ],
   "source": [
    "type(var1)"
   ]
  },
  {
   "cell_type": "code",
   "execution_count": 17,
   "id": "dbb08160",
   "metadata": {},
   "outputs": [],
   "source": [
    "var2 = '[DS,ML,Python]' #(2)"
   ]
  },
  {
   "cell_type": "code",
   "execution_count": 18,
   "id": "5aabdbce",
   "metadata": {},
   "outputs": [
    {
     "data": {
      "text/plain": [
       "str"
      ]
     },
     "execution_count": 18,
     "metadata": {},
     "output_type": "execute_result"
    }
   ],
   "source": [
    "type(var2)"
   ]
  },
  {
   "cell_type": "code",
   "execution_count": 19,
   "id": "349cfc59",
   "metadata": {},
   "outputs": [],
   "source": [
    "var3 = ['DS','ML','Python'] #(3)"
   ]
  },
  {
   "cell_type": "code",
   "execution_count": 20,
   "id": "2f8130c0",
   "metadata": {},
   "outputs": [
    {
     "data": {
      "text/plain": [
       "list"
      ]
     },
     "execution_count": 20,
     "metadata": {},
     "output_type": "execute_result"
    }
   ],
   "source": [
    "type(var3)"
   ]
  },
  {
   "cell_type": "code",
   "execution_count": 21,
   "id": "87e784a2",
   "metadata": {},
   "outputs": [],
   "source": [
    "var4 = 1.  #(4)"
   ]
  },
  {
   "cell_type": "code",
   "execution_count": 22,
   "id": "a0e7b2ee",
   "metadata": {},
   "outputs": [
    {
     "data": {
      "text/plain": [
       "float"
      ]
     },
     "execution_count": 22,
     "metadata": {},
     "output_type": "execute_result"
    }
   ],
   "source": [
    "type(var4)"
   ]
  },
  {
   "cell_type": "markdown",
   "id": "e937db67",
   "metadata": {},
   "source": [
    "## Q3"
   ]
  },
  {
   "cell_type": "markdown",
   "id": "24b87da3",
   "metadata": {},
   "source": [
    "(1) / - Division Symbol which gives Float quotient"
   ]
  },
  {
   "cell_type": "code",
   "execution_count": 24,
   "id": "4316a768",
   "metadata": {},
   "outputs": [
    {
     "data": {
      "text/plain": [
       "3.3333333333333335"
      ]
     },
     "execution_count": 24,
     "metadata": {},
     "output_type": "execute_result"
    }
   ],
   "source": [
    "a = 10/3\n",
    "a"
   ]
  },
  {
   "cell_type": "code",
   "execution_count": 25,
   "id": "6f9f65c0",
   "metadata": {},
   "outputs": [
    {
     "data": {
      "text/plain": [
       "float"
      ]
     },
     "execution_count": 25,
     "metadata": {},
     "output_type": "execute_result"
    }
   ],
   "source": [
    "type(a)"
   ]
  },
  {
   "cell_type": "markdown",
   "id": "fd7477e1",
   "metadata": {},
   "source": [
    "(2) % - gives Remainder "
   ]
  },
  {
   "cell_type": "code",
   "execution_count": 26,
   "id": "fae8b078",
   "metadata": {},
   "outputs": [
    {
     "data": {
      "text/plain": [
       "1"
      ]
     },
     "execution_count": 26,
     "metadata": {},
     "output_type": "execute_result"
    }
   ],
   "source": [
    "b = 56%5\n",
    "b"
   ]
  },
  {
   "cell_type": "markdown",
   "id": "67631a60",
   "metadata": {},
   "source": [
    "(3) // - gives integer quotient"
   ]
  },
  {
   "cell_type": "code",
   "execution_count": 28,
   "id": "e23302fd",
   "metadata": {},
   "outputs": [
    {
     "data": {
      "text/plain": [
       "3"
      ]
     },
     "execution_count": 28,
     "metadata": {},
     "output_type": "execute_result"
    }
   ],
   "source": [
    "c = 10//3\n",
    "c"
   ]
  },
  {
   "cell_type": "markdown",
   "id": "4906fa77",
   "metadata": {},
   "source": [
    "(4) ** - power Symbol"
   ]
  },
  {
   "cell_type": "code",
   "execution_count": 30,
   "id": "c2d9be78",
   "metadata": {},
   "outputs": [
    {
     "data": {
      "text/plain": [
       "16"
      ]
     },
     "execution_count": 30,
     "metadata": {},
     "output_type": "execute_result"
    }
   ],
   "source": [
    "d = 4**2\n",
    "d"
   ]
  },
  {
   "cell_type": "markdown",
   "id": "a4e23190",
   "metadata": {},
   "source": [
    "## Q4"
   ]
  },
  {
   "cell_type": "code",
   "execution_count": 34,
   "id": "a238355a",
   "metadata": {},
   "outputs": [
    {
     "name": "stdout",
     "output_type": "stream",
     "text": [
      "India\n",
      "12\n",
      "15.56\n",
      "5\n",
      "f\n",
      "[['India', 12, 15.56, 5, 'f', [['India', 12, 15.56, 5, 'f']]]]\n",
      "['India', 12, 15.56, 5, 'f', [['India', 12, 15.56, 5, 'f']]]\n"
     ]
    }
   ],
   "source": [
    "l = ['India',12,15.56,5,'f',[l],l]\n",
    "for i in l:\n",
    "    print(i)"
   ]
  },
  {
   "cell_type": "markdown",
   "id": "43ca3f4d",
   "metadata": {},
   "source": [
    "## Q5"
   ]
  },
  {
   "cell_type": "code",
   "execution_count": 22,
   "id": "fbf59343",
   "metadata": {},
   "outputs": [
    {
     "name": "stdout",
     "output_type": "stream",
     "text": [
      "5\n"
     ]
    }
   ],
   "source": [
    "a = 10\n",
    "b = 2\n",
    "i = 0\n",
    "c = b\n",
    "if a % b ==0:\n",
    "    while c < a :\n",
    "        i += 1\n",
    "        c = b * i\n",
    "    print(i)\n",
    "else :\n",
    "    print('Not Exactly Divisible')\n",
    "    "
   ]
  },
  {
   "cell_type": "markdown",
   "id": "94b727e9",
   "metadata": {},
   "source": [
    "## Q6"
   ]
  },
  {
   "cell_type": "code",
   "execution_count": 2,
   "id": "6088b832",
   "metadata": {},
   "outputs": [
    {
     "name": "stdout",
     "output_type": "stream",
     "text": [
      "36 -- divisible by 3\n",
      "25 --not divisible by 3\n",
      "90 -- divisible by 3\n",
      "15 -- divisible by 3\n",
      "8 --not divisible by 3\n",
      "7 --not divisible by 3\n",
      "16 --not divisible by 3\n",
      "54 -- divisible by 3\n",
      "98 --not divisible by 3\n",
      "100 --not divisible by 3\n",
      "57 -- divisible by 3\n"
     ]
    }
   ],
   "source": [
    "l = [36,25,90,15,8,7,16,54,98,100,57]\n",
    "for i in l:\n",
    "    if i%3 == 0:\n",
    "        print(i,'-- divisible by 3')\n",
    "    else:\n",
    "        print(i, '--not divisible by 3')"
   ]
  },
  {
   "cell_type": "markdown",
   "id": "fe64f858",
   "metadata": {},
   "source": [
    "## Q7"
   ]
  },
  {
   "cell_type": "markdown",
   "id": "73fa9538",
   "metadata": {},
   "source": [
    "++ Mutable data type are those data type whose element can be replaced.Ex:- List, Dictonary\n",
    "++ Immutable data type are those data type whose element cann't be replaced by other element. Ex :- String and tuple"
   ]
  },
  {
   "cell_type": "code",
   "execution_count": 5,
   "id": "38d51547",
   "metadata": {},
   "outputs": [],
   "source": [
    "mut_type = [10,'hello',15,6,78]"
   ]
  },
  {
   "cell_type": "code",
   "execution_count": 6,
   "id": "fa1e3198",
   "metadata": {},
   "outputs": [
    {
     "data": {
      "text/plain": [
       "[10, 'hello world', 15, 6, 78]"
      ]
     },
     "execution_count": 6,
     "metadata": {},
     "output_type": "execute_result"
    }
   ],
   "source": [
    "mut_type[1] = 'hello world'\n",
    "mut_type           # list is mutable data type"
   ]
  },
  {
   "cell_type": "code",
   "execution_count": 8,
   "id": "8bd90c81",
   "metadata": {},
   "outputs": [
    {
     "ename": "TypeError",
     "evalue": "'str' object does not support item assignment",
     "output_type": "error",
     "traceback": [
      "\u001b[1;31m---------------------------------------------------------------------------\u001b[0m",
      "\u001b[1;31mTypeError\u001b[0m                                 Traceback (most recent call last)",
      "Cell \u001b[1;32mIn[8], line 2\u001b[0m\n\u001b[0;32m      1\u001b[0m imm_type \u001b[38;5;241m=\u001b[39m \u001b[38;5;124m'\u001b[39m\u001b[38;5;124mhello Rajesh\u001b[39m\u001b[38;5;124m'\u001b[39m\n\u001b[1;32m----> 2\u001b[0m imm_type[\u001b[38;5;241m6\u001b[39m] \u001b[38;5;241m=\u001b[39m \u001b[38;5;124m'\u001b[39m\u001b[38;5;124mB\u001b[39m\u001b[38;5;124m'\u001b[39m\n",
      "\u001b[1;31mTypeError\u001b[0m: 'str' object does not support item assignment"
     ]
    }
   ],
   "source": [
    "imm_type = 'hello Rajesh'\n",
    "imm_type[6] = 'B'  ## string is immutable data type\n"
   ]
  },
  {
   "cell_type": "code",
   "execution_count": null,
   "id": "d85d1a04",
   "metadata": {},
   "outputs": [],
   "source": []
  }
 ],
 "metadata": {
  "kernelspec": {
   "display_name": "Python 3 (ipykernel)",
   "language": "python",
   "name": "python3"
  },
  "language_info": {
   "codemirror_mode": {
    "name": "ipython",
    "version": 3
   },
   "file_extension": ".py",
   "mimetype": "text/x-python",
   "name": "python",
   "nbconvert_exporter": "python",
   "pygments_lexer": "ipython3",
   "version": "3.10.9"
  }
 },
 "nbformat": 4,
 "nbformat_minor": 5
}
